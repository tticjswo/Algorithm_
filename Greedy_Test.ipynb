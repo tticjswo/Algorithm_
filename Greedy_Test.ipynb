{
 "cells": [
  {
   "cell_type": "code",
   "execution_count": 10,
   "id": "52aacd7e",
   "metadata": {},
   "outputs": [
    {
     "data": {
      "text/plain": [
       "5"
      ]
     },
     "execution_count": 10,
     "metadata": {},
     "output_type": "execute_result"
    }
   ],
   "source": [
    "# 프로그래머스 - 체육복 \n",
    "\n",
    "# 점심시간에 도둑이 들어, 일부 학생이 체육복을 도난당했습니다. \n",
    "# 다행히 여벌 체육복이 있는 학생이 이들에게 체육복을 빌려주려 합니다. \n",
    "# 학생들의 번호는 체격 순으로 매겨져 있어, 바로 앞번호의 학생이나 바로 뒷번호의 학생에게만 체육복을 빌려줄 수 있습니다. \n",
    "# 예를 들어, 4번 학생은 3번 학생이나 5번 학생에게만 체육복을 빌려줄 수 있습니다. \n",
    "# 체육복이 없으면 수업을 들을 수 없기 때문에 체육복을 적절히 빌려 최대한 많은 학생이 체육수업을 들어야 합니다.\n",
    "\n",
    "# 전체 학생의 수 n, 체육복을 도난당한 학생들의 번호가 담긴 배열 lost, \n",
    "# 여벌의 체육복을 가져온 학생들의 번호가 담긴 배열 reserve가 매개변수로 주어질 때, \n",
    "# 체육수업을 들을 수 있는 학생의 최댓값을 return 하도록 solution 함수를 작성해주세요.\n",
    "\n",
    "\n",
    "\n",
    "def solution(n, lost, reserve):\n",
    "    _reserve = set(reserve) - set(lost)\n",
    "    _lost = set(lost) - set(reserve)\n",
    "    \n",
    "    \n",
    "    for i in _reserve :\n",
    "        f = i-1\n",
    "        b = i+1\n",
    "        if f in _lost :\n",
    "            _lost.remove(f)\n",
    "        elif b in _lost :\n",
    "            _lost.remove(b)\n",
    "    return n - len(_lost)\n",
    "            \n",
    "    \n",
    "solution(5,[2, 4],[1, 3, 5])\n",
    "\n",
    "# tip. 여분의 것을 가져온 학생이 체육복을 잃어버리는 경우가 있을 수 있어 Set 차집합을 이용해 두 집합간의 중복을 없애고 정렬한다.\n"
   ]
  },
  {
   "cell_type": "code",
   "execution_count": 41,
   "id": "b6b096c8",
   "metadata": {},
   "outputs": [
    {
     "name": "stdout",
     "output_type": "stream",
     "text": [
      "[0, 1, 0, 0, 0, 0, 0, 0, 0, 0, 0, 1, 1]\n",
      "answer =  1\n",
      "1 1\n",
      "현재 위치 index :  1\n",
      "answer =  4\n",
      "2 10\n",
      "현재 위치 index :  -1\n",
      "answer =  6\n",
      "1 12\n",
      "현재 위치 index :  -2\n",
      "7\n"
     ]
    }
   ],
   "source": [
    "'''\n",
    "조이스틱 ( 틀린 해답 )\n",
    "\n",
    "문제 설명\n",
    "조이스틱으로 알파벳 이름을 완성하세요. 맨 처음엔 A로만 이루어져 있습니다.\n",
    "ex) 완성해야 하는 이름이 세 글자면 AAA, 네 글자면 AAAA\n",
    "\n",
    "조이스틱을 각 방향으로 움직이면 아래와 같습니다.\n",
    "\n",
    "▲ - 다음 알파벳\n",
    "▼ - 이전 알파벳 (A에서 아래쪽으로 이동하면 Z로)\n",
    "◀ - 커서를 왼쪽으로 이동 (첫 번째 위치에서 왼쪽으로 이동하면 마지막 문자에 커서)\n",
    "▶ - 커서를 오른쪽으로 이동 (마지막 위치에서 오른쪽으로 이동하면 첫 번째 문자에 커서\n",
    "'''\n",
    "def solution(name):\n",
    "    if set(name)=={'A'}:\n",
    "        return 0\n",
    "    idx = 0\n",
    "\n",
    "    answer = 0\n",
    "    change= [min(ord(char)- ord('A'), ord('Z') - ord(char) +1) for char in name]\n",
    "    print (change)\n",
    "    while True:\n",
    "        answer += change[idx]\n",
    "        change[idx] = 0\n",
    "        \n",
    "        if sum(change) == 0:\n",
    "            break\n",
    "        left, right = 1,1\n",
    "        \n",
    "        while change[idx - left] == 0 :\n",
    "            left+=1\n",
    "        while change[idx +right] == 0 :\n",
    "            right += 1\n",
    "        \n",
    "        \n",
    "        answer += min (left,right)\n",
    "        print('answer = ', answer)\n",
    "        if left <right :\n",
    "            idx += -left \n",
    "        elif right>left :\n",
    "            idx += right\n",
    "        else :\n",
    "            \n",
    "        print('현재 위치 index : ',idx)\n",
    "        #왼쪽이든 오른쪽이든 제일 가까운 'A'가 아닌 알파벳을 찾자\n",
    "        \n",
    "    return answer\n",
    "\n",
    "print(solution('ABAAAAAAAAABB'))\n",
    "\n",
    "# 위 테스트 케이스를 적용하였을 때 왼쪽으로 이동할 때와 오른쪽으로 처음 이동할때의 answer가 각각 다르게 된다.\n",
    "# 새로운 방법이 필요해 보임\n"
   ]
  },
  {
   "cell_type": "code",
   "execution_count": 43,
   "id": "46cab099",
   "metadata": {},
   "outputs": [
    {
     "name": "stdout",
     "output_type": "stream",
     "text": [
      "7\n"
     ]
    }
   ],
   "source": [
    "'''\n",
    "조이스틱 \n",
    "\n",
    "문제 설명\n",
    "조이스틱으로 알파벳 이름을 완성하세요. 맨 처음엔 A로만 이루어져 있습니다.\n",
    "ex) 완성해야 하는 이름이 세 글자면 AAA, 네 글자면 AAAA\n",
    "\n",
    "조이스틱을 각 방향으로 움직이면 아래와 같습니다.\n",
    "\n",
    "▲ - 다음 알파벳\n",
    "▼ - 이전 알파벳 (A에서 아래쪽으로 이동하면 Z로)\n",
    "◀ - 커서를 왼쪽으로 이동 (첫 번째 위치에서 왼쪽으로 이동하면 마지막 문자에 커서)\n",
    "▶ - 커서를 오른쪽으로 이동 (마지막 위치에서 오른쪽으로 이동하면 첫 번째 문자에 커서\n",
    "'''\n",
    "def solution(name) :\n",
    "    answer =0\n",
    "    min_move = len(name) -1\n",
    "    \n",
    "    for i, char in enumerate(name) :\n",
    "        answer += min(ord(char) - ord('A'), ord('Z') - ord(char) +1)\n",
    "        next = i+1\n",
    "        while next < len(name) and name[next] == 'A' :\n",
    "            next+=1\n",
    "        # 기존 방법 , 왼쪽으로 , 오른쪽으로\n",
    "        min_move = min([min_move, 2* i + len(name) -next, i + 2 * (len(name)-next)])\n",
    "    answer+=min_move\n",
    "    return answer\n",
    "print(solution('ABAAAAAAAAABB'))\n"
   ]
  },
  {
   "cell_type": "code",
   "execution_count": null,
   "id": "55e94941",
   "metadata": {},
   "outputs": [],
   "source": []
  }
 ],
 "metadata": {
  "kernelspec": {
   "display_name": "Python 3 (ipykernel)",
   "language": "python",
   "name": "python3"
  },
  "language_info": {
   "codemirror_mode": {
    "name": "ipython",
    "version": 3
   },
   "file_extension": ".py",
   "mimetype": "text/x-python",
   "name": "python",
   "nbconvert_exporter": "python",
   "pygments_lexer": "ipython3",
   "version": "3.9.5"
  }
 },
 "nbformat": 4,
 "nbformat_minor": 5
}

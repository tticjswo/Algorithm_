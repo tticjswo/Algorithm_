{
 "cells": [
  {
   "cell_type": "code",
   "execution_count": 1,
   "id": "4904138c",
   "metadata": {},
   "outputs": [
    {
     "name": "stdout",
     "output_type": "stream",
     "text": [
      "6\n"
     ]
    }
   ],
   "source": [
    "N = 1260\n",
    "count = 0\n",
    "\n",
    "coin_type = [500,100,50,10]\n",
    "\n",
    "for coin in coin_type:\n",
    "    count += N //coin \n",
    "    N %=coin\n",
    "    \n",
    "print(count)"
   ]
  },
  {
   "cell_type": "code",
   "execution_count": 5,
   "id": "1c30899f",
   "metadata": {},
   "outputs": [
    {
     "name": "stdout",
     "output_type": "stream",
     "text": [
      "5 8 3\n",
      "2 4 5 4 6\n",
      "6\n",
      "12\n",
      "18\n",
      "23\n",
      "29\n",
      "35\n",
      "41\n",
      "46\n",
      "46\n"
     ]
    }
   ],
   "source": [
    "#큰 수의 법칙 -1 \n",
    "\n",
    "# M 이 100억 이상이 된다면 이 문제는 시간 초과가 될수 있음\n",
    "\n",
    "\n",
    "n , m , k = map(int,input().split())\n",
    "data = list(map(int , input().split()))\n",
    "\n",
    "data.sort()\n",
    "first_num = data[n-1]\n",
    "second_num = data[n-2]\n",
    "\n",
    "result = 0 \n",
    "\n",
    "\n",
    "while(1) :\n",
    "    if m == 0 :\n",
    "        break\n",
    "    for i in range(k) :\n",
    "        result += first_num\n",
    "        m-=1\n",
    "        if m == 0 :\n",
    "            break\n",
    "    result += second_num\n",
    "    m-=1\n",
    "\n",
    "    \n",
    "print(result)\n",
    "\n",
    "\n",
    "        \n",
    "    "
   ]
  },
  {
   "cell_type": "code",
   "execution_count": 12,
   "id": "a4d9d24b",
   "metadata": {},
   "outputs": [
    {
     "name": "stdout",
     "output_type": "stream",
     "text": [
      "5 8 3\n",
      "2 4 5 4 6\n",
      "46\n"
     ]
    }
   ],
   "source": [
    "# 큰 수의 법칙 - 2\n",
    "# 반복되는 수열을 기준으로 생각해보자\n",
    "\n",
    "n , m , k = map(int,input().split())\n",
    "data = list(map(int , input().split()))\n",
    "\n",
    "data.sort()\n",
    "first_num = data[n-1]\n",
    "second_num = data[n-2]\n",
    "\n",
    "result = 0 \n",
    "\n",
    "count = m/(k+1) * k + m %(k+1)\n",
    "result += first_num * count\n",
    "result += (m-count) * second_num\n",
    "print(int( result))"
   ]
  },
  {
   "cell_type": "code",
   "execution_count": 19,
   "id": "b1120262",
   "metadata": {},
   "outputs": [
    {
     "name": "stdout",
     "output_type": "stream",
     "text": [
      "3 3\n",
      "1 1 1\n",
      "2 2 2\n",
      "2 1 2\n",
      "2\n"
     ]
    }
   ],
   "source": [
    "# 숫자 카드 게임 \n",
    "\n",
    "m, n = map( int , input().split())\n",
    "\n",
    "result = 0\n",
    "\n",
    "for i in range(m) :\n",
    "    data = list(map(int , input().split()))\n",
    "    result = max (result,min(data))\n",
    "    \n",
    "print(result)"
   ]
  },
  {
   "cell_type": "code",
   "execution_count": 22,
   "id": "cd3a705b",
   "metadata": {},
   "outputs": [
    {
     "name": "stdout",
     "output_type": "stream",
     "text": [
      "25 5\n",
      "n= 1.0 count =  2\n"
     ]
    }
   ],
   "source": [
    "# 1 이 될 때 까지\n",
    "n , k = map (int, input().split())\n",
    "\n",
    "count = 0\n",
    "while n>=k :\n",
    "    if n % k == 0:\n",
    "        n= n/k\n",
    "    else :\n",
    "        n-=1\n",
    "    count+=1\n",
    "while n> 1:\n",
    "    n-=1\n",
    "    count+=1\n",
    "print('n=',n,'count = ', count)\n"
   ]
  },
  {
   "cell_type": "code",
   "execution_count": null,
   "id": "f9f7a8f4",
   "metadata": {},
   "outputs": [],
   "source": []
  }
 ],
 "metadata": {
  "kernelspec": {
   "display_name": "Python 3 (ipykernel)",
   "language": "python",
   "name": "python3"
  },
  "language_info": {
   "codemirror_mode": {
    "name": "ipython",
    "version": 3
   },
   "file_extension": ".py",
   "mimetype": "text/x-python",
   "name": "python",
   "nbconvert_exporter": "python",
   "pygments_lexer": "ipython3",
   "version": "3.9.5"
  }
 },
 "nbformat": 4,
 "nbformat_minor": 5
}

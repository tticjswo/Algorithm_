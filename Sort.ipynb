{
 "cells": [
  {
   "cell_type": "code",
   "execution_count": 2,
   "id": "65e8d3c8",
   "metadata": {},
   "outputs": [
    {
     "name": "stdout",
     "output_type": "stream",
     "text": [
      "[0, 1, 2, 3, 4, 5, 6, 7, 8, 9]\n"
     ]
    }
   ],
   "source": [
    "'''\n",
    "파이썬의 장점을 활용한 퀵 정렬 예제\n",
    "'''\n",
    "\n",
    "array = [5,7,9,0,3,1,6,2,4,8]\n",
    "\n",
    "def quick_sort(array) :\n",
    "    if len(array) <=1:\n",
    "        return array\n",
    "    pivot = array[0]\n",
    "    tail = array[1:]\n",
    "    \n",
    "    left_side = [x for x in tail if x <= pivot]\n",
    "    right_side = [x for x in tail if x > pivot]\n",
    "    return quick_sort(left_side) + [pivot] + quick_sort(right_side)\n",
    "\n",
    "print(quick_sort(array))"
   ]
  },
  {
   "cell_type": "code",
   "execution_count": 11,
   "id": "e891313d",
   "metadata": {},
   "outputs": [
    {
     "name": "stdout",
     "output_type": "stream",
     "text": [
      "3\n",
      "3\n",
      "2\n",
      "1\n",
      "[1, 2, 3]\n"
     ]
    }
   ],
   "source": [
    "'''\n",
    "실전 문제 : 위에서 아래로\n",
    "'''\n",
    "\n",
    "n = int(input())\n",
    "\n",
    "array = []\n",
    "for _ in range(n) :\n",
    "    array.append(int(input()))\n",
    "    \n",
    "array = sorted(array)\n",
    "print(array)"
   ]
  },
  {
   "cell_type": "code",
   "execution_count": 13,
   "id": "00d74f42",
   "metadata": {},
   "outputs": [
    {
     "name": "stdout",
     "output_type": "stream",
     "text": [
      "2\n",
      "김상현 11\n",
      "최준원 22\n",
      "김상현최준원"
     ]
    }
   ],
   "source": [
    "n = int(input())\n",
    "\n",
    "array = []\n",
    "\n",
    "for _ in range(n) :\n",
    "    input_data = input().split()\n",
    "    \n",
    "    array.append((input_data[0],int(input_data[1])))\n",
    "    \n",
    "array = sorted(array,key=lambda student : student[1])\n",
    "\n",
    "for student in array :\n",
    "    print(student[0], end = '')\n",
    "    "
   ]
  },
  {
   "cell_type": "code",
   "execution_count": 18,
   "id": "58eb7ab9",
   "metadata": {},
   "outputs": [
    {
     "name": "stdout",
     "output_type": "stream",
     "text": [
      "5 3\n",
      "1 2 5 4 3\n",
      "5 5 6 6 3\n",
      "[1, 2, 5, 4, 3]\n",
      "[5, 5, 6, 6, 3]\n",
      "[1, 2, 3, 4, 5]\n",
      "[6, 6, 5, 5, 3]\n"
     ]
    }
   ],
   "source": [
    "n, k = map(int, input().split())\n",
    "\n",
    "array1=list(map(int,input().split()))\n",
    "array2 = list(map(int,input().split()))\n",
    "\n",
    "array1.sort()\n",
    "array2.sort(reverse=True)\n",
    "\n",
    "for i in range(n) :\n",
    "    array1[]\n"
   ]
  },
  {
   "cell_type": "code",
   "execution_count": null,
   "id": "d0bee0f6",
   "metadata": {},
   "outputs": [],
   "source": []
  }
 ],
 "metadata": {
  "kernelspec": {
   "display_name": "Python 3 (ipykernel)",
   "language": "python",
   "name": "python3"
  },
  "language_info": {
   "codemirror_mode": {
    "name": "ipython",
    "version": 3
   },
   "file_extension": ".py",
   "mimetype": "text/x-python",
   "name": "python",
   "nbconvert_exporter": "python",
   "pygments_lexer": "ipython3",
   "version": "3.9.5"
  }
 },
 "nbformat": 4,
 "nbformat_minor": 5
}

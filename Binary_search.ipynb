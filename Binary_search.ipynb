{
 "cells": [
  {
   "cell_type": "code",
   "execution_count": 11,
   "id": "93d8521f",
   "metadata": {},
   "outputs": [
    {
     "name": "stdout",
     "output_type": "stream",
     "text": [
      "10 7\n",
      "1 2 3 4 5 6 7 8 9 10\n",
      "7\n"
     ]
    }
   ],
   "source": [
    "'''\n",
    "재귀로 구현한 이진 탐색 \n",
    "'''\n",
    "def binary_search(array, target, start , end) :\n",
    "    if start > end :\n",
    "        return None\n",
    "    mid = int((start+ end) / 2 )\n",
    "    \n",
    "    if array[mid] == target :\n",
    "        return mid\n",
    "    elif array[mid] > target :\n",
    "        return binary_search(array ,target, start, mid-1)\n",
    "    else :\n",
    "        return binary_search(array, target, mid+1, end)\n",
    "    \n",
    "n,target = map(int, input().split())\n",
    "\n",
    "\n",
    "array = list(map(int, input().split()))\n",
    "\n",
    "result = binary_search(array , target , 0 , n-1)\n",
    "print(result+1)\n"
   ]
  },
  {
   "cell_type": "code",
   "execution_count": 15,
   "id": "3b8c063e",
   "metadata": {},
   "outputs": [
    {
     "name": "stdout",
     "output_type": "stream",
     "text": [
      "5\n",
      "8 3 7 9 2\n",
      "3\n",
      "5 7 9\n",
      "no\n",
      "yes\n",
      "yes\n"
     ]
    }
   ],
   "source": [
    "'''\n",
    "실전 문제 ; 부품 찾기 \n",
    "'''\n",
    "\n",
    "def binary_search(array, target, start ,end ) :\n",
    "    if start > end :\n",
    "        return None\n",
    "    \n",
    "    mid = int((start + end) / 2 )\n",
    "    \n",
    "    if array[mid] == target :\n",
    "        return mid\n",
    "    elif array[mid] > target :\n",
    "        return binary_search(array, target, start , mid-1) \n",
    "    else :\n",
    "        return binary_search(array,target, mid+1 , end) \n",
    "      \n",
    "\n",
    "n = int(input())\n",
    "array = list(map(int, input().split()))\n",
    "\n",
    "m = int(input())\n",
    "target_list = list(map(int , input().split()))\n",
    "\n",
    "array.sort()\n",
    "\n",
    "for i in range(m) :\n",
    "    if binary_search(array,target_list[i], 0, n) :\n",
    "        print('yes',end=' ')\n",
    "    else :\n",
    "        print('no',end=' '')\n",
    "    \n",
    "\n"
   ]
  },
  {
   "cell_type": "code",
   "execution_count": 45,
   "id": "3c552922",
   "metadata": {},
   "outputs": [
    {
     "name": "stdout",
     "output_type": "stream",
     "text": [
      "4 6\n",
      "19 17 15 10\n",
      "15\n",
      "None\n"
     ]
    },
    {
     "data": {
      "text/plain": [
       "'\\n왜 함수의 return 값이 None이 나오는 것 일까;;\\n\\n분명 정확한 위치에 mid를 리턴하는데 막상 함수밖에서 함수의 return 값은 None으로 출력 된다.\\n'"
      ]
     },
     "execution_count": 45,
     "metadata": {},
     "output_type": "execute_result"
    }
   ],
   "source": [
    "'''\n",
    "실전문제 : 떡볶이 떡 만들기\n",
    "'''\n",
    "def func(datas,target, start , end) :\n",
    "    if start > end :\n",
    "        return None\n",
    "    \n",
    "    mid = int((start+end) /2)\n",
    "    result = 0\n",
    "\n",
    "    for i in range(n) :\n",
    "        if datas[i] - mid > 0 :\n",
    "            result += (datas[i] - mid)\n",
    "    if result == target :\n",
    "        print(mid)\n",
    "        return mid\n",
    "    \n",
    "    elif result > target :\n",
    "        return func(datas,target,mid+1,end)\n",
    "        \n",
    "    else:\n",
    "        return func(datas,target,start,mid-1)\n",
    "\n",
    "n ,m  = map(int,input().split())\n",
    "array = list(map(int, input().split()))\n",
    "\n",
    "start = 0\n",
    "end = max(array)\n",
    "\n",
    "answer = func(array,m,start,end)\n",
    "print(answer)\n",
    "# print(answer)\n",
    "      \n",
    "\n",
    "'''\n",
    "왜 함수의 return 값이 None이 나오는 것 일까;;\n",
    "\n",
    "분명 정확한 위치에 mid를 리턴하는데 막상 함수밖에서 함수의 return 값은 None으로 출력 된다.\n",
    "'''\n",
    "\n",
    "\n",
    "    \n",
    "    "
   ]
  },
  {
   "cell_type": "markdown",
   "id": "485eb865",
   "metadata": {},
   "source": []
  }
 ],
 "metadata": {
  "kernelspec": {
   "display_name": "Python 3 (ipykernel)",
   "language": "python",
   "name": "python3"
  },
  "language_info": {
   "codemirror_mode": {
    "name": "ipython",
    "version": 3
   },
   "file_extension": ".py",
   "mimetype": "text/x-python",
   "name": "python",
   "nbconvert_exporter": "python",
   "pygments_lexer": "ipython3",
   "version": "3.9.5"
  }
 },
 "nbformat": 4,
 "nbformat_minor": 5
}

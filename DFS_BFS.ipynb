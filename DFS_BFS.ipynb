{
 "cells": [
  {
   "cell_type": "code",
   "execution_count": 7,
   "id": "5c5c1d7b",
   "metadata": {},
   "outputs": [
    {
     "name": "stdout",
     "output_type": "stream",
     "text": [
      "4 4\n",
      "1 1 0\n",
      "1 1 1 1\n",
      "1 0 0 1\n",
      "1 1 0 1\n",
      "1 1 1 1\n",
      "2\n"
     ]
    }
   ],
   "source": [
    "'''\n",
    "4강 복습 : 게임 개발\n",
    "'''\n",
    "\n",
    "n,m = map(int, input().split())\n",
    "\n",
    "d = [[0]*m for _ in range(n)]\n",
    "\n",
    "x,y,direction = map(int, input().split())\n",
    "\n",
    "d[x][y] = 1\n",
    "\n",
    "array = []\n",
    "\n",
    "dx = [-1,0,1,0]\n",
    "dy = [0,1,0,-1]\n",
    "\n",
    "for _ in range(n) :\n",
    "    array.append(list(map(int,input().split())))\n",
    "    \n",
    "    \n",
    "def turn_left() :\n",
    "    global direction \n",
    "    direction -= 1\n",
    "    if direction == -1 :\n",
    "        direction = 3\n",
    "        \n",
    "        \n",
    "turn_num = 0\n",
    "count = 1        \n",
    "while True :\n",
    "    turn_left()\n",
    "    nx = x + dx[direction] \n",
    "    ny = y + dy[direction]\n",
    "    \n",
    "    if d[nx][ny]== 0 and array[nx][ny] == 0 :\n",
    "        x = nx\n",
    "        y = ny\n",
    "        count+=1\n",
    "        turn_num = 0\n",
    "        d[x][y] = 1\n",
    "        continue\n",
    "    else :\n",
    "        turn_num +=1\n",
    "    if turn_num == 4 :\n",
    "        jx = x - dx[direction]\n",
    "        jy = y - dy[direction]\n",
    "        if array[jx][jy] == 1 :\n",
    "            break\n",
    "        x = jx\n",
    "        y = jy\n",
    "        \n",
    "        turn_num = 0\n",
    "print(count)\n",
    "        "
   ]
  },
  {
   "cell_type": "code",
   "execution_count": 10,
   "id": "a1c2b8d5",
   "metadata": {},
   "outputs": [
    {
     "name": "stdout",
     "output_type": "stream",
     "text": [
      "deque([3, 7, 1, 4])\n",
      "deque([4, 1, 7, 3])\n"
     ]
    }
   ],
   "source": [
    "'''\n",
    "5-2 큐 예제 \n",
    "deque 라이브러리 활용\n",
    "'''\n",
    "\n",
    "from collections import deque\n",
    "\n",
    "queue = deque()\n",
    "\n",
    "queue.append(5)\n",
    "queue.append(2)\n",
    "queue.append(3)\n",
    "queue.append(7)\n",
    "queue.popleft()\n",
    "queue.append(1)\n",
    "queue.append(4)\n",
    "queue.popleft()\n",
    "\n",
    "print(queue)\n",
    "queue.reverse()\n",
    "print(queue)"
   ]
  },
  {
   "cell_type": "code",
   "execution_count": 15,
   "id": "1f14a666",
   "metadata": {},
   "outputs": [
    {
     "name": "stdout",
     "output_type": "stream",
     "text": [
      "4 4\n",
      "0001\n",
      "0110\n",
      "1010\n",
      "1111\n",
      "3\n"
     ]
    }
   ],
   "source": [
    "'''\n",
    "실전 문제 3  : 음료수 얼려 먹기\n",
    "'''\n",
    "n , m = map(int, input().split())\n",
    "\n",
    "graph = []\n",
    "\n",
    "for _ in range(n) :\n",
    "    graph.append(list(map(int,input())))\n",
    "    \n",
    "result = 0\n",
    "\n",
    "def dfs(x,y):\n",
    "    if x<=-1 or x >=n or y<=-1 or y>=m :\n",
    "        return False\n",
    "    if graph[x][y] == 0 :\n",
    "        graph[x][y] = 1\n",
    "        dfs(x-1,y)\n",
    "        dfs(x,y-1)\n",
    "        dfs(x+1,y)\n",
    "        dfs(x,y+1)\n",
    "        return True\n",
    "    return False\n",
    "\n",
    "for i in range(n) :\n",
    "    for j in range(m) :\n",
    "        if dfs(i,j)==True :\n",
    "            result+=1\n",
    "            \n",
    "print(result)"
   ]
  },
  {
   "cell_type": "code",
   "execution_count": 19,
   "id": "17b49bf8",
   "metadata": {},
   "outputs": [
    {
     "name": "stdout",
     "output_type": "stream",
     "text": [
      "3 3\n",
      "110\n",
      "010\n",
      "011\n",
      "5\n"
     ]
    }
   ],
   "source": [
    "'''\n",
    "실전문제 4 : 미로탈출\n",
    "'''\n",
    "from collections import deque\n",
    "\n",
    "n , m = map(int , input().split())\n",
    "\n",
    "graph= [] \n",
    "for _ in range(n) :\n",
    "    graph.append(list(map(int,input())))\n",
    "\n",
    "dx = [-1,1,0,0]\n",
    "dy = [0,0,-1,1]    \n",
    "    \n",
    "    \n",
    "def bfs(x,y) :\n",
    "    queue = deque()\n",
    "    queue.append((x,y))\n",
    "    while queue :\n",
    "        x,y = queue.popleft()\n",
    "        for i in range(4) :\n",
    "            nx = x +dx[i]\n",
    "            ny = y + dy[i]\n",
    "            \n",
    "            if nx <= -1 or nx >= n or ny<=-1 or ny >= m :\n",
    "                continue\n",
    "            if graph[nx][ny] == 0 :\n",
    "                continue\n",
    "                \n",
    "            if graph[nx][ny] ==1 :\n",
    "                graph[nx][ny] = graph[x][y] + 1\n",
    "                queue.append((nx,ny))\n",
    "                \n",
    "    return graph[n-1][m-1]\n",
    "\n",
    "print(bfs(0,0))"
   ]
  },
  {
   "cell_type": "code",
   "execution_count": null,
   "id": "5132dc46",
   "metadata": {},
   "outputs": [],
   "source": []
  }
 ],
 "metadata": {
  "kernelspec": {
   "display_name": "Python 3 (ipykernel)",
   "language": "python",
   "name": "python3"
  },
  "language_info": {
   "codemirror_mode": {
    "name": "ipython",
    "version": 3
   },
   "file_extension": ".py",
   "mimetype": "text/x-python",
   "name": "python",
   "nbconvert_exporter": "python",
   "pygments_lexer": "ipython3",
   "version": "3.9.5"
  }
 },
 "nbformat": 4,
 "nbformat_minor": 5
}

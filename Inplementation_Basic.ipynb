{
 "cells": [
  {
   "cell_type": "code",
   "execution_count": 3,
   "id": "0ef27ee3",
   "metadata": {},
   "outputs": [
    {
     "name": "stdout",
     "output_type": "stream",
     "text": [
      "5\n",
      "R R R U D D\n",
      "3 4\n"
     ]
    }
   ],
   "source": [
    "'''\n",
    "예제 4-1 상하 좌우\n",
    "'''\n",
    "\n",
    "n =  int(input())\n",
    "data = input().split()\n",
    "\n",
    "x, y = 1,1\n",
    "\n",
    "dx = [ 0,0,-1,1]\n",
    "dy = [-1,1,0,0]\n",
    "move_type = ['L','R','U','D']\n",
    "\n",
    "for direction in data :\n",
    "    i = move_type.index(direction)\n",
    "    nx = x + dx[i]\n",
    "    ny = y + dy[i]\n",
    "    \n",
    "    if nx < 1 or nx > n or ny < 1 or ny > n :\n",
    "        continue\n",
    "    x,y = nx,ny\n",
    "    \n",
    "print(x,y)\n",
    "    \n",
    "    \n"
   ]
  },
  {
   "cell_type": "code",
   "execution_count": 5,
   "id": "e22fe1be",
   "metadata": {},
   "outputs": [
    {
     "name": "stdout",
     "output_type": "stream",
     "text": [
      "5\n",
      "11475\n"
     ]
    }
   ],
   "source": [
    "'''\n",
    "예제 4-2 시각\n",
    "'''\n",
    "h = int(input())\n",
    "\n",
    "count = 0\n",
    "for i in range(h+1):\n",
    "    for j in range(60):\n",
    "        for k in range(60) :\n",
    "            if '3' in str(i) + str(j) + str(k) :\n",
    "                count+=1\n",
    "                \n",
    "print(count)\n"
   ]
  },
  {
   "cell_type": "code",
   "execution_count": 10,
   "id": "ccd94089",
   "metadata": {},
   "outputs": [
    {
     "name": "stdout",
     "output_type": "stream",
     "text": [
      "a1\n",
      "2\n"
     ]
    }
   ],
   "source": [
    "'''\n",
    "왕실의 나이트 \n",
    "'''\n",
    "\n",
    "data = input()\n",
    "x = int(data[1])\n",
    "y = ord(data[0]) - ord('a') +1\n",
    "\n",
    "dx = [1, 1,-1,-1, 2, 2,-2,-2]\n",
    "dy = [2,-2, 2,-2, 1,-1, 1,-1]\n",
    "\n",
    "count = 0\n",
    "\n",
    "for i in range(len(dx)) :\n",
    "    nx = x + dx[i]\n",
    "    ny = y + dy[i]\n",
    "    \n",
    "    if nx <1 or nx> 8 or ny < 1 or ny>8 :\n",
    "        continue\n",
    "    count+=1\n",
    "    \n",
    "print(count)\n"
   ]
  },
  {
   "cell_type": "code",
   "execution_count": 24,
   "id": "5f0c25d3",
   "metadata": {},
   "outputs": [
    {
     "name": "stdout",
     "output_type": "stream",
     "text": [
      "4 4\n",
      "1 1 0 \n",
      "1 1 1 1\n",
      "1 0 0 1\n",
      "1 1 0 1\n",
      "1 1 1 1\n",
      "3\n"
     ]
    }
   ],
   "source": [
    "n , m = map(int, input().split())\n",
    "\n",
    "d = [[0] * m for _ in range(n)]\n",
    "\n",
    "x,y,direction = map(int , input().split())\n",
    "\n",
    "d[x][y] = 1\n",
    "\n",
    "array = []\n",
    "for i in range(n) :\n",
    "    array.append(list(map(int,input().split())))\n",
    "\n",
    "\n",
    "dx = [-1,0,1,0] # 북 동 남 서 \n",
    "dy = [0,1,0,-1]\n",
    "\n",
    "def turn_left():\n",
    "    global direction\n",
    "    direction -= 1\n",
    "    if direction == -1:\n",
    "        direction = 3\n",
    "            \n",
    "        \n",
    "count = 1\n",
    "turn_time = 0\n",
    "\n",
    "while True  :\n",
    "    turn_left()\n",
    "    nx = x + dx[direction]\n",
    "    ny = y + dy[direction] \n",
    "    if d[nx][ny] == 0 and array[nx][ny] == 0 :\n",
    "        d[nx][ny] = 1\n",
    "        x = nx \n",
    "        y = ny\n",
    "        count +=1\n",
    "        turn_time =0\n",
    "        continue\n",
    "    else :\n",
    "        turn_time +=1\n",
    "    if turn_time == 4 :\n",
    "        nx = x - dx[direction]\n",
    "        ny = y - dy[direction]\n",
    "        \n",
    "        if array[nx][ny] == 0 :\n",
    "            x= nx\n",
    "            y =ny\n",
    "        else :\n",
    "            break\n",
    "        turn_time =0\n",
    "\n",
    "print(count)"
   ]
  },
  {
   "cell_type": "code",
   "execution_count": null,
   "id": "9a1441b6",
   "metadata": {},
   "outputs": [],
   "source": []
  }
 ],
 "metadata": {
  "kernelspec": {
   "display_name": "Python 3 (ipykernel)",
   "language": "python",
   "name": "python3"
  },
  "language_info": {
   "codemirror_mode": {
    "name": "ipython",
    "version": 3
   },
   "file_extension": ".py",
   "mimetype": "text/x-python",
   "name": "python",
   "nbconvert_exporter": "python",
   "pygments_lexer": "ipython3",
   "version": "3.9.5"
  }
 },
 "nbformat": 4,
 "nbformat_minor": 5
}
